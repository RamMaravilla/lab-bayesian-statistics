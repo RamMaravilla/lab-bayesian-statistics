{
 "cells": [
  {
   "cell_type": "markdown",
   "metadata": {},
   "source": [
    "# Intro to Bayesian Statistics Lab\n",
    "\n",
    "Complete the following set of exercises to solidify your knowledge of Bayesian statistics and Bayesian data analysis."
   ]
  },
  {
   "cell_type": "code",
   "execution_count": 3,
   "metadata": {},
   "outputs": [],
   "source": [
    "import pandas as pd\n",
    "import numpy as np\n",
    "import matplotlib.pyplot as plt"
   ]
  },
  {
   "cell_type": "markdown",
   "metadata": {},
   "source": [
    "## 1. Cookie Problem\n",
    "\n",
    "Suppose we have two bowls of cookies. Bowl 1 contains 30 vanilla cookies and 10 chocolate cookies. Bowl 2 contains 20 of each. You randomly pick one cookie out of one of the bowls, and it is vanilla. Use Bayes Theorem to calculate the probability that the vanilla cookie you picked came from Bowl 1?"
   ]
  },
  {
   "cell_type": "code",
   "execution_count": 12,
   "metadata": {},
   "outputs": [
    {
     "data": {
      "text/plain": [
       "0.6"
      ]
     },
     "execution_count": 12,
     "metadata": {},
     "output_type": "execute_result"
    }
   ],
   "source": [
    "#Bow1 = 30 galletas vainilla; 10 de chocolate (0.75 vainilla, 0.25 chocolate)\n",
    "#Bowl2 = 20 galletas vaillinas; 20 de chocolate (0.50 vainilla, 0.5 chocolate)\n",
    "\n",
    "#Fórmula (P galleta vainilla | Bowl1) = ((Probabilidad de Vaillina | Bowl1) (Probabilidad de vainilla en caja 1) / (p VAINILLA)\n",
    "\n",
    "(0.75 * 0.5)/(5/8)"
   ]
  },
  {
   "cell_type": "markdown",
   "metadata": {},
   "source": [
    "What is the probability that it came from Bowl 2?"
   ]
  },
  {
   "cell_type": "code",
   "execution_count": 13,
   "metadata": {},
   "outputs": [
    {
     "data": {
      "text/plain": [
       "0.4"
      ]
     },
     "execution_count": 13,
     "metadata": {},
     "output_type": "execute_result"
    }
   ],
   "source": [
    "(0.5 * 0.5)/(5/8)"
   ]
  },
  {
   "cell_type": "code",
   "execution_count": 15,
   "metadata": {},
   "outputs": [],
   "source": [
    "def bayes_rule(priors, likelihoods):\n",
    "    marg = sum(np.multiply(priors, likelihoods))\n",
    "    post = np.divide(np.multiply(priors, likelihoods), marg)\n",
    "    return post"
   ]
  },
  {
   "cell_type": "code",
   "execution_count": 20,
   "metadata": {},
   "outputs": [
    {
     "data": {
      "text/plain": [
       "array([0.6, 0.4])"
      ]
     },
     "execution_count": 20,
     "metadata": {},
     "output_type": "execute_result"
    }
   ],
   "source": [
    "priors = [0.5,0.5] #porque son dos paquetes y tienen la misma probabilidad cada uno (0.5 y 0.5)\n",
    "likelihoods = [0.75, 0.5] #probabilidad de sacar la galleta de vainilla en el primer paquete y segundo paquete\n",
    "\n",
    "bayes_rule(priors, likelihoods)"
   ]
  },
  {
   "cell_type": "markdown",
   "metadata": {},
   "source": [
    "What if the cookie you had picked was chocolate? What are the probabilities that the chocolate cookie came from Bowl 1 and Bowl 2 respectively?"
   ]
  },
  {
   "cell_type": "code",
   "execution_count": 24,
   "metadata": {},
   "outputs": [
    {
     "name": "stdout",
     "output_type": "stream",
     "text": [
      "La probabilidad de una galleta de chocolate es de la caja 1 es 0.333; de la caja dos es 0.66\n"
     ]
    }
   ],
   "source": [
    "#Si lo intentamos con la fórmula\n",
    "\n",
    "priors = [0.5,0.5]\n",
    "likelihoods = [0.25,0.5]\n",
    "               \n",
    "\n",
    "bayes_rule(priors, likelihoods)\n",
    "\n",
    "print(\"La probabilidad de una galleta de chocolate es de la caja 1 es 0.333; de la caja dos es 0.66\")"
   ]
  },
  {
   "cell_type": "markdown",
   "metadata": {},
   "source": [
    "## 2. Candy Problem\n",
    "\n",
    "Suppose you have two bags of candies:\n",
    "\n",
    "- In Bag 1, the mix of colors is:\n",
    "    - Brown - 30%\n",
    "    - Yellow - 20%\n",
    "    - Red - 20%\n",
    "    - Green - 10%\n",
    "    - Orange - 10%\n",
    "    - Tan - 10%\n",
    "    \n",
    "- In Bag 2, the mix of colors is:\n",
    "    - Blue - 24%\n",
    "    - Green - 20%\n",
    "    - Orange - 16%\n",
    "    - Yellow - 14%\n",
    "    - Red - 13%\n",
    "    - Brown - 13%\n",
    "    \n",
    "Not knowing which bag is which, you randomly draw one candy from each bag. One is yellow and one is green. What is the probability that the yellow one came from the Bag 1?\n",
    "\n",
    "*Hint: For the likelihoods, you will need to multiply the probabilities of drawing yellow from one bag and green from the other bag and vice versa.*"
   ]
  },
  {
   "cell_type": "code",
   "execution_count": 44,
   "metadata": {},
   "outputs": [
    {
     "name": "stdout",
     "output_type": "stream",
     "text": [
      "[0.74074074 0.25925926]\n",
      "La probabilidad de sacar uno amarillo de la bolsa 1 es 0.74\n"
     ]
    }
   ],
   "source": [
    "#Probability of drawing one yellow from bag1 and green from bag2 (0.20)(0.20) = 0.04\n",
    "#Probability of drawing one gren from bag1 and green from gab2 (0.2)(0.2) = 0.04\n",
    "\n",
    "priors = [0.5,0.5]  #porque son dos bolsas, entonces es 50 y 50 de prob\n",
    "likelihoods = [0.2*0.2, 0.1*0.14] #La probabilidad de sacar un yellow y un green es 20 y 20; la probabilidad de sacar\n",
    "#un green y un yellow.\n",
    "\n",
    "\n",
    "print(bayes_rule(priors, likelihoods))\n",
    "\n",
    "print(\"La probabilidad de sacar uno amarillo de la bolsa 1 es 0.74\")"
   ]
  },
  {
   "cell_type": "markdown",
   "metadata": {},
   "source": [
    "What is the probability that the yellow candy came from Bag 2?"
   ]
  },
  {
   "cell_type": "code",
   "execution_count": 45,
   "metadata": {},
   "outputs": [
    {
     "name": "stdout",
     "output_type": "stream",
     "text": [
      "[0.74074074 0.25925926]\n",
      "La probabilidad de que el dulce amarillo venga de la bolsa dos es 0.26\n"
     ]
    }
   ],
   "source": [
    "priors = [0.5,0.5]  #porque son dos bolsas, entonces es 50 y 50 de prob\n",
    "likelihoods = [0.2*0.2, 0.1*0.14]\n",
    "\n",
    "print(bayes_rule(priors, likelihoods))\n",
    "\n",
    "print(\"La probabilidad de que el dulce amarillo venga de la bolsa dos es 0.26\")"
   ]
  },
  {
   "cell_type": "markdown",
   "metadata": {},
   "source": [
    "What are the probabilities that the green one came from Bag 1 and Bag 2 respectively?"
   ]
  },
  {
   "cell_type": "code",
   "execution_count": 42,
   "metadata": {},
   "outputs": [
    {
     "name": "stdout",
     "output_type": "stream",
     "text": [
      "Si la probabilidad de sacar un amarillo de la bolsa 1 es 0.74, la probabilidad de sacar uno verde es 0.26\n",
      "Si la probabilidad de sacar un amarillo de la bolsa 2 es 0.26, la probabildad de sacar uno amarillo es 0.74\n"
     ]
    }
   ],
   "source": [
    "#priors = [0.5,0.5]  #porque son dos bolsas, entonces es 50 y 50 de prob\n",
    "#likelihoods = [0.1,0.2]\n",
    "\n",
    "#print(bayes_rule(priors, likelihoods))\n",
    "\n",
    "#print(\"La probabilidad de que el dulce verde venga de la bolsa 1 es 0.333; y de la dos 3 es 0.666\")\n",
    "\n",
    "print(\"Si la probabilidad de sacar un amarillo de la bolsa 1 es 0.74, la probabilidad de sacar uno verde es 0.26\")\n",
    "print(\"Si la probabilidad de sacar un amarillo de la bolsa 2 es 0.26, la probabildad de sacar uno amarillo es 0.74\")"
   ]
  },
  {
   "cell_type": "markdown",
   "metadata": {},
   "source": [
    "## 3. Monty Hall Problem\n",
    "\n",
    "Suppose you are a contestant on the popular game show *Let's Make a Deal*. The host of the show (Monty Hall) presents you with three doors - Door A, Door B, and Door C. He tells you that there is a sports car behind one of them and if you choose the correct one, you win the car!\n",
    "\n",
    "You select Door A, but then Monty makes things a little more interesting. He opens Door B to reveal that there is no sports car behind it and asks you if you would like to stick with your choice of Door A or switch your choice to Door C. Given this new information, what are the probabilities of you winning the car if you stick with Door A versus if you switch to Door C?"
   ]
  },
  {
   "cell_type": "code",
   "execution_count": 51,
   "metadata": {},
   "outputs": [
    {
     "data": {
      "text/plain": [
       "array([0.33333333, 0.66666667, 0.        ])"
      ]
     },
     "execution_count": 51,
     "metadata": {},
     "output_type": "execute_result"
    }
   ],
   "source": [
    "#Originalmente, si tenías 3 puertas, cada una era 1/3.\n",
    "#Sin embargo, después que Chabelo te quita una. La probabilidad posterior aumenta a 1/2.\n",
    "\n",
    "#Entonces te cambias porque  1/2 es mayor a 1/3\n",
    "\n",
    "priors = [1/3, 1/3, 1/3]\n",
    "likelihoods = [1/2, 1, 0]\n",
    "\n",
    "bayes_rule(priors, likelihoods)"
   ]
  },
  {
   "cell_type": "markdown",
   "metadata": {},
   "source": [
    "## 4. Bayesian Analysis \n",
    "\n",
    "Suppose you work for a landscaping company, and they want to advertise their service online. They create an ad and sit back waiting for the money to roll in. On the first day, the ad sends 100 visitors to the site and 14 of them sign up for landscaping services. Create a generative model to come up with the posterior distribution and produce a visualization of what the posterior distribution would look like given the observed data."
   ]
  },
  {
   "cell_type": "code",
   "execution_count": 59,
   "metadata": {},
   "outputs": [],
   "source": [
    "prior = pd.Series(np.random.uniform(0, 1, size=1000000))\n",
    "simulated = [np.random.binomial(100, i) for i in prior]\n",
    "posterior = prior[[i == 14 for i in simulated]]"
   ]
  },
  {
   "cell_type": "markdown",
   "metadata": {},
   "source": [
    "Produce a set of descriptive statistics for the posterior distribution."
   ]
  },
  {
   "cell_type": "code",
   "execution_count": 55,
   "metadata": {},
   "outputs": [],
   "source": [
    "import seaborn as sns"
   ]
  },
  {
   "cell_type": "code",
   "execution_count": 56,
   "metadata": {},
   "outputs": [
    {
     "data": {
      "text/plain": [
       "<matplotlib.axes._subplots.AxesSubplot at 0x19160943438>"
      ]
     },
     "execution_count": 56,
     "metadata": {},
     "output_type": "execute_result"
    },
    {
     "data": {
      "image/png": "[encoded data removed]",
      "text/plain": [
       "<Figure size 432x288 with 1 Axes>"
      ]
     },
     "metadata": {
      "needs_background": "light"
     },
     "output_type": "display_data"
    }
   ],
   "source": [
    "sns.distplot(posterior)"
   ]
  },
  {
   "cell_type": "markdown",
   "metadata": {},
   "source": [
    "What is the 90% credible interval range?"
   ]
  },
  {
   "cell_type": "code",
   "execution_count": 57,
   "metadata": {},
   "outputs": [
    {
     "name": "stdout",
     "output_type": "stream",
     "text": [
      "0.08563713176629255 - 0.22141261717415733\n"
     ]
    }
   ],
   "source": [
    "print(posterior.quantile(.025), '-', posterior.quantile(.975))"
   ]
  },
  {
   "cell_type": "markdown",
   "metadata": {},
   "source": [
    "What is the Maximum Likelihood Estimate?"
   ]
  },
  {
   "cell_type": "code",
   "execution_count": 58,
   "metadata": {},
   "outputs": [
    {
     "name": "stdout",
     "output_type": "stream",
     "text": [
      "Maximum Likelihood Estimate:  0.15 - 0.11246766683911019\n"
     ]
    }
   ],
   "source": [
    "mode = posterior.round(2).mode()[0]\n",
    "probability = list(posterior.round(2)).count(mode)/posterior.shape[0]\n",
    "print('Maximum Likelihood Estimate: ', mode, '-',probability)"
   ]
  }
 ],
 "metadata": {
  "kernelspec": {
   "display_name": "Python 3",
   "language": "python",
   "name": "python3"
  },
  "language_info": {
   "codemirror_mode": {
    "name": "ipython",
    "version": 3
   },
   "file_extension": ".py",
   "mimetype": "text/x-python",
   "name": "python",
   "nbconvert_exporter": "python",
   "pygments_lexer": "ipython3",
   "version": "3.7.3"
  }
 },
 "nbformat": 4,
 "nbformat_minor": 2
}
